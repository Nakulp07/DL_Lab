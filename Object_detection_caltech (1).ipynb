{
 "cells": [
  {
   "cell_type": "code",
   "execution_count": 1,
   "id": "696bc2d3-1777-4259-942e-8b7d601d4cd2",
   "metadata": {},
   "outputs": [],
   "source": [
    "import numpy as np\n",
    "import tensorflow as tf\n",
    "from tensorflow import keras\n",
    "from tensorflow.keras.preprocessing.image import ImageDataGenerator\n",
    "\n",
    "from tensorflow.keras.models import Model\n",
    "from tensorflow.keras.layers import Dense, Flatten\n",
    "from tensorflow.keras.optimizers import Adam\n",
    "from tensorflow.keras.applications import VGG16"
   ]
  },
  {
   "cell_type": "code",
   "execution_count": 2,
   "id": "f8281f6c-bb65-489d-9e09-4f6affceeb8d",
   "metadata": {},
   "outputs": [],
   "source": [
    "dataset_dir = \"D:\\\\nakul\\\\PICT\\\\sem7\\\\DL\\\\caltech-101-img\\\\caltech-101-img\""
   ]
  },
  {
   "cell_type": "code",
   "execution_count": 3,
   "id": "96f5a4d3-de51-48a1-92c9-73c33b6e9305",
   "metadata": {},
   "outputs": [],
   "source": [
    "dataset_datagen = ImageDataGenerator(\n",
    "    rescale = 1.0/255\n",
    ")"
   ]
  },
  {
   "cell_type": "code",
   "execution_count": 5,
   "id": "530d029a-bbb6-481d-8fab-4fc868c006ad",
   "metadata": {},
   "outputs": [
    {
     "name": "stdout",
     "output_type": "stream",
     "text": [
      "Found 9144 images belonging to 102 classes.\n"
     ]
    }
   ],
   "source": [
    "dataset_generator = dataset_datagen.flow_from_directory(\n",
    "    dataset_dir,\n",
    "    target_size = (64,64),\n",
    "    batch_size=2000,\n",
    ")"
   ]
  },
  {
   "cell_type": "code",
   "execution_count": 6,
   "id": "11c87f60-3838-4ba4-a4ec-93c3808d222a",
   "metadata": {},
   "outputs": [],
   "source": [
    "xtrain,ytrain = dataset_generator[0]\n",
    "xtest,ytest = dataset_generator[1]"
   ]
  },
  {
   "cell_type": "code",
   "execution_count": 7,
   "id": "1b2cf44a-a284-4bb3-8efb-591c07abfc7f",
   "metadata": {},
   "outputs": [
    {
     "name": "stdout",
     "output_type": "stream",
     "text": [
      "2000\n"
     ]
    }
   ],
   "source": [
    "print(len(xtrain))"
   ]
  },
  {
   "cell_type": "code",
   "execution_count": 8,
   "id": "9225e331-1eff-486c-a1f4-cabf9bf67670",
   "metadata": {},
   "outputs": [],
   "source": [
    "weights_path = \"D:\\\\nakul\\\\PICT\\\\sem7\\\\DL\\\\vgg16_weights_tf_dim_ordering_tf_kernels_notop.h5\""
   ]
  },
  {
   "cell_type": "code",
   "execution_count": 9,
   "id": "77939356-5e5d-4c45-abb1-d1e70f1eb9ed",
   "metadata": {},
   "outputs": [],
   "source": [
    "base_model = VGG16(weights=weights_path,include_top=False,input_shape=(64,64,3))"
   ]
  },
  {
   "cell_type": "code",
   "execution_count": 10,
   "id": "d243de23-57e0-48e4-82d2-dd355a1f0e3e",
   "metadata": {},
   "outputs": [],
   "source": [
    "for layer in base_model.layers:\n",
    "    layer.trainable = False"
   ]
  },
  {
   "cell_type": "code",
   "execution_count": 11,
   "id": "683a50e8-2d57-4cee-ac31-6a22ee0fbce8",
   "metadata": {},
   "outputs": [],
   "source": [
    "x = Flatten()(base_model.output)\n",
    "x = Dense(64,activation='relu')(x)\n",
    "x = Dense(102,activation='softmax')(x)"
   ]
  },
  {
   "cell_type": "code",
   "execution_count": 12,
   "id": "d57f0475-6583-4aae-b8a8-1095cf9aa355",
   "metadata": {},
   "outputs": [],
   "source": [
    "model = Model(inputs=base_model.input,outputs=x)"
   ]
  },
  {
   "cell_type": "code",
   "execution_count": 13,
   "id": "a5f3b1af-4147-44eb-aacd-dca503437ad7",
   "metadata": {},
   "outputs": [],
   "source": [
    "model.compile(optimizer = 'adam',loss='categorical_crossentropy',metrics=['accuracy'])"
   ]
  },
  {
   "cell_type": "code",
   "execution_count": 16,
   "id": "a9ea5a6a-783a-4f19-aefa-1470ea0d6611",
   "metadata": {},
   "outputs": [
    {
     "name": "stdout",
     "output_type": "stream",
     "text": [
      "\u001b[1m32/32\u001b[0m \u001b[32m━━━━━━━━━━━━━━━━━━━━\u001b[0m\u001b[37m\u001b[0m \u001b[1m66s\u001b[0m 2s/step - accuracy: 0.4558 - loss: 2.5526 - val_accuracy: 0.4385 - val_loss: 2.7018\n"
     ]
    },
    {
     "data": {
      "text/plain": [
       "<keras.src.callbacks.history.History at 0x21c6d9fb4a0>"
      ]
     },
     "execution_count": 16,
     "metadata": {},
     "output_type": "execute_result"
    }
   ],
   "source": [
    "model.fit(xtrain,ytrain,batch_size=64,epochs=1,validation_data=(xtest,ytest))"
   ]
  },
  {
   "cell_type": "code",
   "execution_count": 19,
   "id": "36c773b7-6ab7-4fd4-97c7-bedccc9e0ca9",
   "metadata": {},
   "outputs": [
    {
     "name": "stdout",
     "output_type": "stream",
     "text": [
      "\u001b[1m32/32\u001b[0m \u001b[32m━━━━━━━━━━━━━━━━━━━━\u001b[0m\u001b[37m\u001b[0m \u001b[1m76s\u001b[0m 2s/step - accuracy: 0.0877 - loss: 4.4723 - val_accuracy: 0.1965 - val_loss: 3.6618\n"
     ]
    },
    {
     "data": {
      "text/plain": [
       "<keras.src.callbacks.history.History at 0x21c7b737b00>"
      ]
     },
     "execution_count": 19,
     "metadata": {},
     "output_type": "execute_result"
    }
   ],
   "source": [
    "base_model = VGG16(weights=weights_path, include_top=False, input_shape=(64, 64, 3))\n",
    "\n",
    "# freeze all layers first\n",
    "for layer in base_model.layers:\n",
    "   layer.trainable = False\n",
    "    \n",
    "# unfreeze last 4 layers of base model\n",
    "for layer in base_model.layers[len(base_model.layers) - 4:]:\n",
    "   layer.trainable = True\n",
    "    \n",
    "# fine-tuning hyper parameters\n",
    "x = Flatten()(base_model.output)\n",
    "x = Dense(512, activation='relu')(x)\n",
    "x = tf.keras.layers.Dropout(0.3)(x)\n",
    "x = Dense(102, activation='softmax')(x)\n",
    "\n",
    "# Create the model\n",
    "model = Model(inputs=base_model.input, outputs=x)\n",
    "# Compile the model\n",
    "model.compile(optimizer='adam', loss='categorical_crossentropy', metrics=['accuracy'])\n",
    "# training fine tuned model\n",
    "model.fit(xtrain, ytrain, batch_size=64, epochs=1, validation_data=(xtest, ytest))"
   ]
  },
  {
   "cell_type": "code",
   "execution_count": 20,
   "id": "2e2db50b-875f-4671-b0d9-6b7910dbf065",
   "metadata": {},
   "outputs": [
    {
     "name": "stdout",
     "output_type": "stream",
     "text": [
      "\u001b[1m63/63\u001b[0m \u001b[32m━━━━━━━━━━━━━━━━━━━━\u001b[0m\u001b[37m\u001b[0m \u001b[1m35s\u001b[0m 550ms/step\n"
     ]
    }
   ],
   "source": [
    "import matplotlib.pyplot as plt\n",
    "ypred = model.predict(xtest)\n"
   ]
  },
  {
   "cell_type": "code",
   "execution_count": 21,
   "id": "dbc83201-ed30-40d0-b208-4dcacb8973f6",
   "metadata": {},
   "outputs": [],
   "source": [
    "labels = list(dataset_generator.class_indices.keys())"
   ]
  },
  {
   "cell_type": "code",
   "execution_count": 24,
   "id": "15d47b8b-fa00-407b-8fab-d36713ed3632",
   "metadata": {},
   "outputs": [
    {
     "name": "stdout",
     "output_type": "stream",
     "text": [
      "predicted Faces\n",
      "actual anchor\n"
     ]
    },
    {
     "data": {
      "image/png": "[encoded data removed]",
      "text/plain": [
       "<Figure size 640x480 with 1 Axes>"
      ]
     },
     "metadata": {},
     "output_type": "display_data"
    }
   ],
   "source": [
    "plt.imshow(xtest[887])\n",
    "print(\"predicted\",labels[np.argmax(ypred[887])])\n",
    "print(\"actual\",labels[np.argmax(ytest[887])])"
   ]
  },
  {
   "cell_type": "code",
   "execution_count": null,
   "id": "0b1e7926-c8cf-453c-8a97-d8a5655de252",
   "metadata": {},
   "outputs": [],
   "source": []
  }
 ],
 "metadata": {
  "kernelspec": {
   "display_name": "Python 3 (ipykernel)",
   "language": "python",
   "name": "python3"
  },
  "language_info": {
   "codemirror_mode": {
    "name": "ipython",
    "version": 3
   },
   "file_extension": ".py",
   "mimetype": "text/x-python",
   "name": "python",
   "nbconvert_exporter": "python",
   "pygments_lexer": "ipython3",
   "version": "3.12.3"
  }
 },
 "nbformat": 4,
 "nbformat_minor": 5
}
