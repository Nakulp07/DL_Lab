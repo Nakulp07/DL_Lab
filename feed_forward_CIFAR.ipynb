{
 "cells": [
  {
   "cell_type": "raw",
   "id": "a130f230-ccaa-44b6-9b90-a08c8c0ccd08",
   "metadata": {},
   "source": [
    "Build Feedforward neural networks with Keras and TensorFlow for classification of\n",
    "CIFAR10 image dataset using the following steps:\n",
    "a. Import the necessary packages\n",
    "b. Load the training and testing data\n",
    "c. Define the network architecture using Keras\n",
    "d. Train the model using SGD/Adam optimizer\n",
    "e. Evaluate the network\n",
    "f. Plot the training loss and accuracy"
   ]
  },
  {
   "cell_type": "code",
   "execution_count": 1,
   "id": "54b3a24f-6203-4985-9762-9e3397b5923f",
   "metadata": {},
   "outputs": [],
   "source": [
    "import numpy as np\n",
    "import matplotlib.pyplot as plt\n",
    "from sklearn.metrics import classification_report"
   ]
  },
  {
   "cell_type": "code",
   "execution_count": 2,
   "id": "6ccd4854-a9fd-4fcb-8c86-8e0baae3991c",
   "metadata": {},
   "outputs": [],
   "source": [
    "import tensorflow as tf\n",
    "from tensorflow.keras import models,backend\n",
    "from keras.optimizers import SGD\n",
    "from keras.layers import Flatten, Dense\n",
    "from keras.datasets import cifar10"
   ]
  },
  {
   "cell_type": "code",
   "execution_count": 3,
   "id": "1190eeb7-6f79-431c-9e74-206f8369d87e",
   "metadata": {},
   "outputs": [],
   "source": [
    "(xtrain,ytrain),(xtest,ytest) = cifar10.load_data()"
   ]
  },
  {
   "cell_type": "code",
   "execution_count": 4,
   "id": "1358bf11-d37c-437b-9f44-1dff24da84e2",
   "metadata": {},
   "outputs": [
    {
     "data": {
      "text/plain": [
       "(50000, 32, 32, 3)"
      ]
     },
     "execution_count": 4,
     "metadata": {},
     "output_type": "execute_result"
    }
   ],
   "source": [
    "xtrain.shape"
   ]
  },
  {
   "cell_type": "code",
   "execution_count": 5,
   "id": "2dfdd9ad-c98d-4748-a357-43192d0be841",
   "metadata": {},
   "outputs": [
    {
     "data": {
      "text/plain": [
       "(50000, 1)"
      ]
     },
     "execution_count": 5,
     "metadata": {},
     "output_type": "execute_result"
    }
   ],
   "source": [
    "ytrain.shape"
   ]
  },
  {
   "cell_type": "code",
   "execution_count": 6,
   "id": "88e16779-bf45-4d06-8269-8b7a637c596c",
   "metadata": {},
   "outputs": [],
   "source": [
    "#normalization berween [0,1]\n",
    "xtrain,xtest = xtrain/255.0,xtest/255.0"
   ]
  },
  {
   "cell_type": "code",
   "execution_count": 7,
   "id": "3e9eed8f-3785-4592-99c2-c1b9d9a2e79c",
   "metadata": {},
   "outputs": [],
   "source": [
    "#one hot encoding\n",
    "ytrain = tf.keras.utils.to_categorical(ytrain,10)\n",
    "ytest = tf.keras.utils.to_categorical(ytest,10)"
   ]
  },
  {
   "cell_type": "code",
   "execution_count": 8,
   "id": "55c0a37f-eb86-4ad3-b271-fe1abcbf0ce1",
   "metadata": {},
   "outputs": [
    {
     "data": {
      "text/plain": [
       "(50000, 10)"
      ]
     },
     "execution_count": 8,
     "metadata": {},
     "output_type": "execute_result"
    }
   ],
   "source": [
    "ytrain.shape"
   ]
  },
  {
   "cell_type": "code",
   "execution_count": 9,
   "id": "dbd534ce-1e68-447d-bbd3-2ec6a5641de7",
   "metadata": {},
   "outputs": [
    {
     "name": "stderr",
     "output_type": "stream",
     "text": [
      "D:\\nakul\\PICT\\sem7\\DL\\DLenv\\Lib\\site-packages\\keras\\src\\layers\\reshaping\\flatten.py:37: UserWarning: Do not pass an `input_shape`/`input_dim` argument to a layer. When using Sequential models, prefer using an `Input(shape)` object as the first layer in the model instead.\n",
      "  super().__init__(**kwargs)\n"
     ]
    }
   ],
   "source": [
    "model = models.Sequential(\n",
    "    [\n",
    "        Flatten(input_shape = (32,32,3)),\n",
    "        Dense(128,activation = 'relu'),\n",
    "        Dense(128,activation = 'relu'),\n",
    "        Dense(128,activation = 'relu'),\n",
    "        Dense(128,activation = 'relu'),\n",
    "        Dense(64,activation = 'relu'),\n",
    "        Dense(64,activation = 'relu'),\n",
    "        Dense(10,activation = 'softmax')\n",
    "    ]\n",
    ")"
   ]
  },
  {
   "cell_type": "code",
   "execution_count": 10,
   "id": "abc6d51b-c537-431f-ae18-043e57477107",
   "metadata": {},
   "outputs": [],
   "source": [
    "model.compile(optimizer = SGD(learning_rate=0.01),loss='categorical_crossentropy',metrics=['accuracy'])"
   ]
  },
  {
   "cell_type": "code",
   "execution_count": 11,
   "id": "5b76c124-3a9e-4ca3-b93e-a60abcd1fa1e",
   "metadata": {},
   "outputs": [
    {
     "name": "stdout",
     "output_type": "stream",
     "text": [
      "Epoch 1/10\n",
      "\u001b[1m1563/1563\u001b[0m \u001b[32m━━━━━━━━━━━━━━━━━━━━\u001b[0m\u001b[37m\u001b[0m \u001b[1m4s\u001b[0m 2ms/step - accuracy: 0.1926 - loss: 2.1507 - val_accuracy: 0.3257 - val_loss: 1.8510\n",
      "Epoch 2/10\n",
      "\u001b[1m1563/1563\u001b[0m \u001b[32m━━━━━━━━━━━━━━━━━━━━\u001b[0m\u001b[37m\u001b[0m \u001b[1m3s\u001b[0m 2ms/step - accuracy: 0.3468 - loss: 1.8184 - val_accuracy: 0.3702 - val_loss: 1.7377\n",
      "Epoch 3/10\n",
      "\u001b[1m1563/1563\u001b[0m \u001b[32m━━━━━━━━━━━━━━━━━━━━\u001b[0m\u001b[37m\u001b[0m \u001b[1m3s\u001b[0m 2ms/step - accuracy: 0.3841 - loss: 1.7071 - val_accuracy: 0.3921 - val_loss: 1.6840\n",
      "Epoch 4/10\n",
      "\u001b[1m1563/1563\u001b[0m \u001b[32m━━━━━━━━━━━━━━━━━━━━\u001b[0m\u001b[37m\u001b[0m \u001b[1m3s\u001b[0m 2ms/step - accuracy: 0.4098 - loss: 1.6390 - val_accuracy: 0.3525 - val_loss: 1.7995\n",
      "Epoch 5/10\n",
      "\u001b[1m1563/1563\u001b[0m \u001b[32m━━━━━━━━━━━━━━━━━━━━\u001b[0m\u001b[37m\u001b[0m \u001b[1m3s\u001b[0m 2ms/step - accuracy: 0.4330 - loss: 1.5842 - val_accuracy: 0.4166 - val_loss: 1.5925\n",
      "Epoch 6/10\n",
      "\u001b[1m1563/1563\u001b[0m \u001b[32m━━━━━━━━━━━━━━━━━━━━\u001b[0m\u001b[37m\u001b[0m \u001b[1m4s\u001b[0m 2ms/step - accuracy: 0.4478 - loss: 1.5392 - val_accuracy: 0.4208 - val_loss: 1.6318\n",
      "Epoch 7/10\n",
      "\u001b[1m1563/1563\u001b[0m \u001b[32m━━━━━━━━━━━━━━━━━━━━\u001b[0m\u001b[37m\u001b[0m \u001b[1m3s\u001b[0m 2ms/step - accuracy: 0.4605 - loss: 1.5008 - val_accuracy: 0.4353 - val_loss: 1.5644\n",
      "Epoch 8/10\n",
      "\u001b[1m1563/1563\u001b[0m \u001b[32m━━━━━━━━━━━━━━━━━━━━\u001b[0m\u001b[37m\u001b[0m \u001b[1m3s\u001b[0m 2ms/step - accuracy: 0.4707 - loss: 1.4759 - val_accuracy: 0.3672 - val_loss: 1.7934\n",
      "Epoch 9/10\n",
      "\u001b[1m1563/1563\u001b[0m \u001b[32m━━━━━━━━━━━━━━━━━━━━\u001b[0m\u001b[37m\u001b[0m \u001b[1m3s\u001b[0m 2ms/step - accuracy: 0.4819 - loss: 1.4432 - val_accuracy: 0.4676 - val_loss: 1.5120\n",
      "Epoch 10/10\n",
      "\u001b[1m1563/1563\u001b[0m \u001b[32m━━━━━━━━━━━━━━━━━━━━\u001b[0m\u001b[37m\u001b[0m \u001b[1m3s\u001b[0m 2ms/step - accuracy: 0.4916 - loss: 1.4224 - val_accuracy: 0.4658 - val_loss: 1.4658\n"
     ]
    }
   ],
   "source": [
    "history = model.fit(xtrain,ytrain,epochs=10,batch_size=32,validation_data=(xtest,ytest))"
   ]
  },
  {
   "cell_type": "code",
   "execution_count": 12,
   "id": "e06a4113-bf93-4231-8244-06ff5a054aa9",
   "metadata": {},
   "outputs": [
    {
     "name": "stdout",
     "output_type": "stream",
     "text": [
      "\u001b[1m313/313\u001b[0m \u001b[32m━━━━━━━━━━━━━━━━━━━━\u001b[0m\u001b[37m\u001b[0m \u001b[1m0s\u001b[0m 1ms/step - accuracy: 0.4725 - loss: 1.4511\n"
     ]
    }
   ],
   "source": [
    "test_loss,test_acc = model.evaluate(xtest,ytest)"
   ]
  },
  {
   "cell_type": "code",
   "execution_count": 13,
   "id": "91795878-d34a-4cc6-a593-34463bdc9057",
   "metadata": {},
   "outputs": [
    {
     "data": {
      "text/plain": [
       "1.465848445892334"
      ]
     },
     "execution_count": 13,
     "metadata": {},
     "output_type": "execute_result"
    }
   ],
   "source": [
    "test_loss"
   ]
  },
  {
   "cell_type": "code",
   "execution_count": 15,
   "id": "d0296b6a-b870-4b26-91de-3f1568b1d20e",
   "metadata": {},
   "outputs": [
    {
     "data": {
      "text/plain": [
       "0.4657999873161316"
      ]
     },
     "execution_count": 15,
     "metadata": {},
     "output_type": "execute_result"
    }
   ],
   "source": [
    "test_acc"
   ]
  },
  {
   "cell_type": "code",
   "execution_count": 16,
   "id": "939d3265-b11d-4065-9637-0a7e71a97aa4",
   "metadata": {},
   "outputs": [],
   "source": [
    "ytest = np.argmax(ytest,1)"
   ]
  },
  {
   "cell_type": "code",
   "execution_count": 17,
   "id": "623836f3-72ec-4778-8499-dcbf9a0dcebd",
   "metadata": {},
   "outputs": [
    {
     "name": "stdout",
     "output_type": "stream",
     "text": [
      "\u001b[1m313/313\u001b[0m \u001b[32m━━━━━━━━━━━━━━━━━━━━\u001b[0m\u001b[37m\u001b[0m \u001b[1m1s\u001b[0m 2ms/step\n"
     ]
    }
   ],
   "source": [
    "ypred = model.predict(xtest)"
   ]
  },
  {
   "cell_type": "code",
   "execution_count": 18,
   "id": "063beccd-c2fe-4e06-8013-443a961a3597",
   "metadata": {},
   "outputs": [],
   "source": [
    "ypred = np.argmax(ypred,axis=1)"
   ]
  },
  {
   "cell_type": "code",
   "execution_count": 19,
   "id": "f5167a7d-dd7b-469d-b778-643a923f2b27",
   "metadata": {},
   "outputs": [],
   "source": [
    "csr = classification_report(ytest,ypred)"
   ]
  },
  {
   "cell_type": "code",
   "execution_count": 20,
   "id": "1e4e163a-be64-4bb5-9975-fa35d734b666",
   "metadata": {},
   "outputs": [
    {
     "name": "stdout",
     "output_type": "stream",
     "text": [
      "              precision    recall  f1-score   support\n",
      "\n",
      "           0       0.56      0.48      0.52      1000\n",
      "           1       0.54      0.70      0.61      1000\n",
      "           2       0.37      0.29      0.33      1000\n",
      "           3       0.31      0.41      0.35      1000\n",
      "           4       0.48      0.28      0.35      1000\n",
      "           5       0.52      0.20      0.29      1000\n",
      "           6       0.36      0.77      0.49      1000\n",
      "           7       0.66      0.42      0.51      1000\n",
      "           8       0.57      0.68      0.62      1000\n",
      "           9       0.54      0.43      0.48      1000\n",
      "\n",
      "    accuracy                           0.47     10000\n",
      "   macro avg       0.49      0.47      0.46     10000\n",
      "weighted avg       0.49      0.47      0.46     10000\n",
      "\n"
     ]
    }
   ],
   "source": [
    "print(csr)"
   ]
  },
  {
   "cell_type": "code",
   "execution_count": 37,
   "id": "6cebabe3-7b0f-4eaa-bd04-319af892497b",
   "metadata": {},
   "outputs": [
    {
     "data": {
      "image/png": "[encoded data removed]",
      "text/plain": [
       "<Figure size 640x480 with 1 Axes>"
      ]
     },
     "metadata": {},
     "output_type": "display_data"
    }
   ],
   "source": [
    "plt.imshow(xtest[2])\n",
    "plt.show()"
   ]
  },
  {
   "cell_type": "code",
   "execution_count": 38,
   "id": "7b7c5ea1-6f05-4aab-9815-b81d233beacd",
   "metadata": {},
   "outputs": [
    {
     "name": "stdout",
     "output_type": "stream",
     "text": [
      "8\n"
     ]
    }
   ],
   "source": [
    "print(ypred[1])"
   ]
  },
  {
   "cell_type": "code",
   "execution_count": 39,
   "id": "fea15e3d-1a01-46db-a51b-d400ab688874",
   "metadata": {},
   "outputs": [
    {
     "data": {
      "image/png": "[encoded data removed]",
      "text/plain": [
       "<Figure size 1200x400 with 2 Axes>"
      ]
     },
     "metadata": {},
     "output_type": "display_data"
    }
   ],
   "source": [
    "plt.figure(figsize = (12,4))\n",
    "plt.subplot(1,2,1)\n",
    "plt.plot(history.history['accuracy'])\n",
    "plt.plot(history.history['val_accuracy'])\n",
    "plt.ylabel('accuracy')\n",
    "plt.xlabel('epoch')\n",
    "\n",
    "plt.subplot(1,2,2)\n",
    "plt.plot(history.history['loss'])\n",
    "plt.plot(history.history['val_loss'])\n",
    "plt.ylabel('loss') \n",
    "plt.xlabel('epoch')\n",
    "plt.show()"
   ]
  },
  {
   "cell_type": "code",
   "execution_count": null,
   "id": "34efcfdc-187b-4232-91e1-4a3dc9de5c0b",
   "metadata": {},
   "outputs": [],
   "source": []
  }
 ],
 "metadata": {
  "kernelspec": {
   "display_name": "Python 3 (ipykernel)",
   "language": "python",
   "name": "python3"
  },
  "language_info": {
   "codemirror_mode": {
    "name": "ipython",
    "version": 3
   },
   "file_extension": ".py",
   "mimetype": "text/x-python",
   "name": "python",
   "nbconvert_exporter": "python",
   "pygments_lexer": "ipython3",
   "version": "3.12.3"
  }
 },
 "nbformat": 4,
 "nbformat_minor": 5
}
