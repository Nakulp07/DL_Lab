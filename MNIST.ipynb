{
 "cells": [
  {
   "cell_type": "code",
   "execution_count": 40,
   "id": "4ab0de30-c27b-4024-9439-064f040ed46a",
   "metadata": {},
   "outputs": [],
   "source": [
    "# Implementing Feedforward neural networks with Keras and TensorFlow for classification of hand-written MNIST dataset using below steps:\n",
    "# a. Import the necessary packages\n",
    "# b. Load the training and testing data\n",
    "# c. Define the network architecture using Keras\n",
    "# d. Train the model using SGD with 11 epochs\n",
    "# e. Evaluate the network\n",
    "# f. Plot the training loss and accuracy"
   ]
  },
  {
   "cell_type": "code",
   "execution_count": 41,
   "id": "b17fd6d5-25aa-4cd9-9347-a1e288a015c0",
   "metadata": {},
   "outputs": [],
   "source": [
    "import numpy as np\n",
    "import tensorflow as tf\n",
    "from tensorflow import keras as ks\n",
    "import matplotlib.pyplot as plt"
   ]
  },
  {
   "cell_type": "code",
   "execution_count": 42,
   "id": "83ea9736-5cc2-4e92-be39-30d1ffc1b08d",
   "metadata": {},
   "outputs": [],
   "source": [
    "from keras.datasets import mnist\n",
    "from keras.optimizers import SGD\n",
    "from keras.layers import Dense,Flatten\n",
    "from sklearn.preprocessing import LabelBinarizer\n",
    "from sklearn.metrics import classification_report"
   ]
  },
  {
   "cell_type": "code",
   "execution_count": 43,
   "id": "e909b9ee-ba54-4c2f-9ee0-4e6507a83b8e",
   "metadata": {},
   "outputs": [],
   "source": [
    "(xtrain,ytrain),(xtest,ytest) = mnist.load_data()"
   ]
  },
  {
   "cell_type": "code",
   "execution_count": 44,
   "id": "a13206d8-e81b-41c4-994a-d845476d8138",
   "metadata": {},
   "outputs": [
    {
     "data": {
      "text/plain": [
       "(60000, 28, 28)"
      ]
     },
     "execution_count": 44,
     "metadata": {},
     "output_type": "execute_result"
    }
   ],
   "source": [
    "xtrain.shape"
   ]
  },
  {
   "cell_type": "code",
   "execution_count": 45,
   "id": "9c5977da-8b30-4717-b6bf-b7ac9a5c78fd",
   "metadata": {},
   "outputs": [],
   "source": [
    "#one hot encoding\n",
    "xtrain,xtest = xtrain/255.0,xtest/255.0"
   ]
  },
  {
   "cell_type": "code",
   "execution_count": 46,
   "id": "ae912686-4fe7-4b29-aef7-361d5ec6e607",
   "metadata": {},
   "outputs": [],
   "source": [
    "#label encoding\n",
    "ytrain = ks.utils.to_categorical(ytrain,10)\n",
    "ytest = ks.utils.to_categorical(ytest,10)"
   ]
  },
  {
   "cell_type": "code",
   "execution_count": 47,
   "id": "26a973b7-1e88-4092-9f88-9b9fd52df2f5",
   "metadata": {},
   "outputs": [
    {
     "name": "stderr",
     "output_type": "stream",
     "text": [
      "D:\\nakul\\PICT\\sem7\\DL\\DLenv\\Lib\\site-packages\\keras\\src\\layers\\reshaping\\flatten.py:37: UserWarning: Do not pass an `input_shape`/`input_dim` argument to a layer. When using Sequential models, prefer using an `Input(shape)` object as the first layer in the model instead.\n",
      "  super().__init__(**kwargs)\n"
     ]
    }
   ],
   "source": [
    "model = ks.models.Sequential(\n",
    "    [\n",
    "        Flatten(input_shape =(28,28)),\n",
    "        Dense(128,activation = 'relu'),\n",
    "        Dense(64,activation = 'relu'),\n",
    "        Dense(10,activation='softmax')\n",
    "    ]\n",
    ")"
   ]
  },
  {
   "cell_type": "code",
   "execution_count": 48,
   "id": "bb76b5b3-d15e-4c5a-93d8-a2fbbedff96c",
   "metadata": {},
   "outputs": [],
   "source": [
    "model.compile(\n",
    "    optimizer = SGD(learning_rate = 0.01),\n",
    "    loss = 'categorical_crossentropy',\n",
    "    metrics = ['accuracy']\n",
    ")"
   ]
  },
  {
   "cell_type": "code",
   "execution_count": 49,
   "id": "a8d5123e-baed-4bb4-ba5e-32cef358d7df",
   "metadata": {},
   "outputs": [
    {
     "name": "stdout",
     "output_type": "stream",
     "text": [
      "Epoch 1/11\n",
      "\u001b[1m1875/1875\u001b[0m \u001b[32m━━━━━━━━━━━━━━━━━━━━\u001b[0m\u001b[37m\u001b[0m \u001b[1m7s\u001b[0m 3ms/step - accuracy: 0.7221 - loss: 1.0300 - val_accuracy: 0.9128 - val_loss: 0.3097\n",
      "Epoch 2/11\n",
      "\u001b[1m1875/1875\u001b[0m \u001b[32m━━━━━━━━━━━━━━━━━━━━\u001b[0m\u001b[37m\u001b[0m \u001b[1m6s\u001b[0m 3ms/step - accuracy: 0.9128 - loss: 0.3014 - val_accuracy: 0.9310 - val_loss: 0.2475\n",
      "Epoch 3/11\n",
      "\u001b[1m1875/1875\u001b[0m \u001b[32m━━━━━━━━━━━━━━━━━━━━\u001b[0m\u001b[37m\u001b[0m \u001b[1m6s\u001b[0m 3ms/step - accuracy: 0.9299 - loss: 0.2470 - val_accuracy: 0.9386 - val_loss: 0.2145\n",
      "Epoch 4/11\n",
      "\u001b[1m1875/1875\u001b[0m \u001b[32m━━━━━━━━━━━━━━━━━━━━\u001b[0m\u001b[37m\u001b[0m \u001b[1m6s\u001b[0m 3ms/step - accuracy: 0.9405 - loss: 0.2100 - val_accuracy: 0.9457 - val_loss: 0.1894\n",
      "Epoch 5/11\n",
      "\u001b[1m1875/1875\u001b[0m \u001b[32m━━━━━━━━━━━━━━━━━━━━\u001b[0m\u001b[37m\u001b[0m \u001b[1m6s\u001b[0m 3ms/step - accuracy: 0.9460 - loss: 0.1878 - val_accuracy: 0.9491 - val_loss: 0.1713\n",
      "Epoch 6/11\n",
      "\u001b[1m1875/1875\u001b[0m \u001b[32m━━━━━━━━━━━━━━━━━━━━\u001b[0m\u001b[37m\u001b[0m \u001b[1m6s\u001b[0m 3ms/step - accuracy: 0.9540 - loss: 0.1629 - val_accuracy: 0.9542 - val_loss: 0.1566\n",
      "Epoch 7/11\n",
      "\u001b[1m1875/1875\u001b[0m \u001b[32m━━━━━━━━━━━━━━━━━━━━\u001b[0m\u001b[37m\u001b[0m \u001b[1m6s\u001b[0m 3ms/step - accuracy: 0.9591 - loss: 0.1475 - val_accuracy: 0.9571 - val_loss: 0.1455\n",
      "Epoch 8/11\n",
      "\u001b[1m1875/1875\u001b[0m \u001b[32m━━━━━━━━━━━━━━━━━━━━\u001b[0m\u001b[37m\u001b[0m \u001b[1m6s\u001b[0m 3ms/step - accuracy: 0.9599 - loss: 0.1374 - val_accuracy: 0.9606 - val_loss: 0.1336\n",
      "Epoch 9/11\n",
      "\u001b[1m1875/1875\u001b[0m \u001b[32m━━━━━━━━━━━━━━━━━━━━\u001b[0m\u001b[37m\u001b[0m \u001b[1m10s\u001b[0m 3ms/step - accuracy: 0.9650 - loss: 0.1220 - val_accuracy: 0.9630 - val_loss: 0.1256\n",
      "Epoch 10/11\n",
      "\u001b[1m1875/1875\u001b[0m \u001b[32m━━━━━━━━━━━━━━━━━━━━\u001b[0m\u001b[37m\u001b[0m \u001b[1m6s\u001b[0m 3ms/step - accuracy: 0.9665 - loss: 0.1142 - val_accuracy: 0.9637 - val_loss: 0.1202\n",
      "Epoch 11/11\n",
      "\u001b[1m1875/1875\u001b[0m \u001b[32m━━━━━━━━━━━━━━━━━━━━\u001b[0m\u001b[37m\u001b[0m \u001b[1m6s\u001b[0m 3ms/step - accuracy: 0.9694 - loss: 0.1043 - val_accuracy: 0.9663 - val_loss: 0.1116\n"
     ]
    }
   ],
   "source": [
    "history = model.fit(xtrain,ytrain,epochs=11,batch_size=32,validation_data=(xtest,ytest))"
   ]
  },
  {
   "cell_type": "code",
   "execution_count": 50,
   "id": "82d64b50-984a-44f0-b309-a1a2bfe5a136",
   "metadata": {},
   "outputs": [
    {
     "name": "stdout",
     "output_type": "stream",
     "text": [
      "\u001b[1m313/313\u001b[0m \u001b[32m━━━━━━━━━━━━━━━━━━━━\u001b[0m\u001b[37m\u001b[0m \u001b[1m1s\u001b[0m 3ms/step - accuracy: 0.9609 - loss: 0.1297\n",
      "test_accuracy :  0.9663000106811523\n",
      "test_loss :  0.11160121858119965\n"
     ]
    }
   ],
   "source": [
    "test_loss,test_accuracy = model.evaluate(xtest,ytest,verbose=1)\n",
    "print('test_accuracy : ',test_accuracy)\n",
    "print('test_loss : ',test_loss)"
   ]
  },
  {
   "cell_type": "code",
   "execution_count": 51,
   "id": "67bb971f-9903-4b55-a372-4247471c66a5",
   "metadata": {},
   "outputs": [],
   "source": [
    "ytest = np.argmax(ytest,axis=1)"
   ]
  },
  {
   "cell_type": "code",
   "execution_count": 52,
   "id": "27899ef3-5508-41dc-8786-2d4dac62f5ba",
   "metadata": {},
   "outputs": [
    {
     "name": "stdout",
     "output_type": "stream",
     "text": [
      "\u001b[1m313/313\u001b[0m \u001b[32m━━━━━━━━━━━━━━━━━━━━\u001b[0m\u001b[37m\u001b[0m \u001b[1m1s\u001b[0m 2ms/step\n"
     ]
    }
   ],
   "source": [
    "ypred = model.predict(xtest)"
   ]
  },
  {
   "cell_type": "code",
   "execution_count": 53,
   "id": "60d08cb1-e5d0-42e0-ae27-3d8913060603",
   "metadata": {},
   "outputs": [
    {
     "data": {
      "image/png": "[encoded data removed]",
      "text/plain": [
       "<Figure size 640x480 with 1 Axes>"
      ]
     },
     "metadata": {},
     "output_type": "display_data"
    },
    {
     "name": "stdout",
     "output_type": "stream",
     "text": [
      "1\n"
     ]
    }
   ],
   "source": [
    "plt.imshow(xtest[14])\n",
    "plt.show()\n",
    "ypred = np.argmax(ypred,axis=1)\n",
    "print(ypred[14])"
   ]
  },
  {
   "cell_type": "code",
   "execution_count": 54,
   "id": "e8600cf0-e44d-4771-9970-338ad798a9f7",
   "metadata": {},
   "outputs": [
    {
     "name": "stdout",
     "output_type": "stream",
     "text": [
      "              precision    recall  f1-score   support\n",
      "\n",
      "           0       0.97      0.99      0.98       980\n",
      "           1       0.98      0.99      0.98      1135\n",
      "           2       0.96      0.96      0.96      1032\n",
      "           3       0.97      0.96      0.97      1010\n",
      "           4       0.97      0.97      0.97       982\n",
      "           5       0.96      0.95      0.96       892\n",
      "           6       0.96      0.97      0.96       958\n",
      "           7       0.96      0.96      0.96      1028\n",
      "           8       0.96      0.97      0.96       974\n",
      "           9       0.97      0.95      0.96      1009\n",
      "\n",
      "    accuracy                           0.97     10000\n",
      "   macro avg       0.97      0.97      0.97     10000\n",
      "weighted avg       0.97      0.97      0.97     10000\n",
      "\n"
     ]
    }
   ],
   "source": [
    "class_report = classification_report(ytest,ypred)\n",
    "print(class_report)"
   ]
  },
  {
   "cell_type": "code",
   "execution_count": 55,
   "id": "66e45507-3593-43ae-b36c-7169cc84886d",
   "metadata": {},
   "outputs": [
    {
     "data": {
      "image/png": "[encoded data removed]",
      "text/plain": [
       "<Figure size 1200x400 with 2 Axes>"
      ]
     },
     "metadata": {},
     "output_type": "display_data"
    }
   ],
   "source": [
    "plt.figure(figsize=(12,4))\n",
    "plt.subplot(1,2,1)\n",
    "plt.plot(history.history['accuracy'])\n",
    "plt.plot(history.history['val_accuracy'])\n",
    "plt.xlabel('Epoch')\n",
    "plt.ylabel('Accuracy')\n",
    "plt.subplot(1,2,2)\n",
    "plt.plot(history.history['loss'])\n",
    "plt.plot(history.history['val_loss'])\n",
    "plt.xlabel('Epoch')\n",
    "plt.ylabel('Accuracy')\n",
    "plt.show()"
   ]
  },
  {
   "cell_type": "code",
   "execution_count": null,
   "id": "d7d1e71a-e417-4097-8bba-8e1fee5a0171",
   "metadata": {},
   "outputs": [],
   "source": []
  }
 ],
 "metadata": {
  "kernelspec": {
   "display_name": "Python 3 (ipykernel)",
   "language": "python",
   "name": "python3"
  },
  "language_info": {
   "codemirror_mode": {
    "name": "ipython",
    "version": 3
   },
   "file_extension": ".py",
   "mimetype": "text/x-python",
   "name": "python",
   "nbconvert_exporter": "python",
   "pygments_lexer": "ipython3",
   "version": "3.12.3"
  }
 },
 "nbformat": 4,
 "nbformat_minor": 5
}
